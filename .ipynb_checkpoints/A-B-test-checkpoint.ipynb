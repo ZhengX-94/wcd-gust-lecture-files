{
 "cells": [
  {
   "cell_type": "markdown",
   "metadata": {},
   "source": [
    "# Random Sampling"
   ]
  },
  {
   "cell_type": "code",
   "execution_count": 1,
   "metadata": {},
   "outputs": [],
   "source": [
    "import pandas as pd\n",
    "import numpy as np"
   ]
  },
  {
   "cell_type": "code",
   "execution_count": 6,
   "metadata": {},
   "outputs": [
    {
     "data": {
      "text/html": [
       "<div>\n",
       "<style scoped>\n",
       "    .dataframe tbody tr th:only-of-type {\n",
       "        vertical-align: middle;\n",
       "    }\n",
       "\n",
       "    .dataframe tbody tr th {\n",
       "        vertical-align: top;\n",
       "    }\n",
       "\n",
       "    .dataframe thead th {\n",
       "        text-align: right;\n",
       "    }\n",
       "</style>\n",
       "<table border=\"1\" class=\"dataframe\">\n",
       "  <thead>\n",
       "    <tr style=\"text-align: right;\">\n",
       "      <th></th>\n",
       "      <th>user_id</th>\n",
       "      <th>city</th>\n",
       "      <th>tenure</th>\n",
       "      <th>channel</th>\n",
       "      <th>opu_6_week</th>\n",
       "      <th>click</th>\n",
       "      <th>experiment</th>\n",
       "    </tr>\n",
       "  </thead>\n",
       "  <tbody>\n",
       "    <tr>\n",
       "      <th>0</th>\n",
       "      <td>31c0fadd6066ab12e90fa931abbb649f7f591cd7927b9b...</td>\n",
       "      <td>STL</td>\n",
       "      <td>35</td>\n",
       "      <td>14</td>\n",
       "      <td>0.50</td>\n",
       "      <td>0</td>\n",
       "      <td>0</td>\n",
       "    </tr>\n",
       "    <tr>\n",
       "      <th>1</th>\n",
       "      <td>458c88e94be0dba675b65ea063233ea55806bf75c920a7...</td>\n",
       "      <td>EDM</td>\n",
       "      <td>4</td>\n",
       "      <td>15</td>\n",
       "      <td>0.50</td>\n",
       "      <td>0</td>\n",
       "      <td>1</td>\n",
       "    </tr>\n",
       "    <tr>\n",
       "      <th>2</th>\n",
       "      <td>62a556505ca62b9d00ea39e01885649c84ee8167c08bc4...</td>\n",
       "      <td>CAL</td>\n",
       "      <td>25</td>\n",
       "      <td>15</td>\n",
       "      <td>0.67</td>\n",
       "      <td>0</td>\n",
       "      <td>1</td>\n",
       "    </tr>\n",
       "    <tr>\n",
       "      <th>3</th>\n",
       "      <td>cf6ebf0bd83ea0c3d12526cd4952cd778c57abb0923f0b...</td>\n",
       "      <td>MSY</td>\n",
       "      <td>68</td>\n",
       "      <td>14</td>\n",
       "      <td>0.83</td>\n",
       "      <td>0</td>\n",
       "      <td>0</td>\n",
       "    </tr>\n",
       "    <tr>\n",
       "      <th>4</th>\n",
       "      <td>62d891d1d4a359eeee374346a57f943e8554193870a2c1...</td>\n",
       "      <td>SAN</td>\n",
       "      <td>17</td>\n",
       "      <td>2</td>\n",
       "      <td>0.33</td>\n",
       "      <td>0</td>\n",
       "      <td>1</td>\n",
       "    </tr>\n",
       "  </tbody>\n",
       "</table>\n",
       "</div>"
      ],
      "text/plain": [
       "                                             user_id city  tenure  channel  \\\n",
       "0  31c0fadd6066ab12e90fa931abbb649f7f591cd7927b9b...  STL      35       14   \n",
       "1  458c88e94be0dba675b65ea063233ea55806bf75c920a7...  EDM       4       15   \n",
       "2  62a556505ca62b9d00ea39e01885649c84ee8167c08bc4...  CAL      25       15   \n",
       "3  cf6ebf0bd83ea0c3d12526cd4952cd778c57abb0923f0b...  MSY      68       14   \n",
       "4  62d891d1d4a359eeee374346a57f943e8554193870a2c1...  SAN      17        2   \n",
       "\n",
       "   opu_6_week  click  experiment  \n",
       "0        0.50      0           0  \n",
       "1        0.50      0           1  \n",
       "2        0.67      0           1  \n",
       "3        0.83      0           0  \n",
       "4        0.33      0           1  "
      ]
     },
     "execution_count": 6,
     "metadata": {},
     "output_type": "execute_result"
    }
   ],
   "source": [
    "# read in data frame \n",
    "\n",
    "df = pd.read_csv(\"~/Desktop/weclouddata/data/experimental_data.csv\")\n",
    "df.head()"
   ]
  },
  {
   "cell_type": "code",
   "execution_count": 5,
   "metadata": {},
   "outputs": [],
   "source": [
    "# fully randomized experiment\n",
    "\n",
    "randomized_exp = df.sample(frac = 0.1, replace=True, random_state=82)"
   ]
  },
  {
   "cell_type": "code",
   "execution_count": 7,
   "metadata": {},
   "outputs": [],
   "source": [
    "experimental_group = df.loc[df['experiment'] == 1]\n",
    "experimental_group_opu = np.array(experimental_group[\"opu_6_week\"])\n",
    "\n",
    "control_group = df.loc[df['experiment'] == 0]\n",
    "control_group_opu = np.array(control_group[\"opu_6_week\"])"
   ]
  },
  {
   "cell_type": "code",
   "execution_count": 11,
   "metadata": {},
   "outputs": [
    {
     "data": {
      "text/plain": [
       "array([0.5 , 0.67, 0.33, ..., 0.  , 0.  , 0.  ])"
      ]
     },
     "execution_count": 11,
     "metadata": {},
     "output_type": "execute_result"
    }
   ],
   "source": [
    "stats.ttest_ind(experimental_group_opu, control_group_opu, equal_var = False)"
   ]
  },
  {
   "cell_type": "code",
   "execution_count": null,
   "metadata": {},
   "outputs": [],
   "source": []
  }
 ],
 "metadata": {
  "kernelspec": {
   "display_name": "Python 3",
   "language": "python",
   "name": "python3"
  },
  "language_info": {
   "codemirror_mode": {
    "name": "ipython",
    "version": 3
   },
   "file_extension": ".py",
   "mimetype": "text/x-python",
   "name": "python",
   "nbconvert_exporter": "python",
   "pygments_lexer": "ipython3",
   "version": "3.7.3"
  }
 },
 "nbformat": 4,
 "nbformat_minor": 2
}
