{
 "cells": [
  {
   "cell_type": "markdown",
   "metadata": {},
   "source": [
    "# Random Sampling"
   ]
  },
  {
   "cell_type": "code",
   "execution_count": 1,
   "metadata": {},
   "outputs": [],
   "source": [
    "import pandas as pd\n",
    "import numpy as np\n",
    "from scipy import stats"
   ]
  },
  {
   "cell_type": "code",
   "execution_count": 2,
   "metadata": {},
   "outputs": [
    {
     "data": {
      "text/html": [
       "<div>\n",
       "<style scoped>\n",
       "    .dataframe tbody tr th:only-of-type {\n",
       "        vertical-align: middle;\n",
       "    }\n",
       "\n",
       "    .dataframe tbody tr th {\n",
       "        vertical-align: top;\n",
       "    }\n",
       "\n",
       "    .dataframe thead th {\n",
       "        text-align: right;\n",
       "    }\n",
       "</style>\n",
       "<table border=\"1\" class=\"dataframe\">\n",
       "  <thead>\n",
       "    <tr style=\"text-align: right;\">\n",
       "      <th></th>\n",
       "      <th>user_id</th>\n",
       "      <th>city</th>\n",
       "      <th>tenure</th>\n",
       "      <th>channel</th>\n",
       "      <th>opu_6_week</th>\n",
       "      <th>click</th>\n",
       "      <th>experiment</th>\n",
       "    </tr>\n",
       "  </thead>\n",
       "  <tbody>\n",
       "    <tr>\n",
       "      <th>0</th>\n",
       "      <td>31c0fadd6066ab12e90fa931abbb649f7f591cd7927b9b...</td>\n",
       "      <td>STL</td>\n",
       "      <td>35</td>\n",
       "      <td>14</td>\n",
       "      <td>0.50</td>\n",
       "      <td>0</td>\n",
       "      <td>0</td>\n",
       "    </tr>\n",
       "    <tr>\n",
       "      <th>1</th>\n",
       "      <td>458c88e94be0dba675b65ea063233ea55806bf75c920a7...</td>\n",
       "      <td>EDM</td>\n",
       "      <td>4</td>\n",
       "      <td>15</td>\n",
       "      <td>0.50</td>\n",
       "      <td>0</td>\n",
       "      <td>1</td>\n",
       "    </tr>\n",
       "    <tr>\n",
       "      <th>2</th>\n",
       "      <td>62a556505ca62b9d00ea39e01885649c84ee8167c08bc4...</td>\n",
       "      <td>CAL</td>\n",
       "      <td>25</td>\n",
       "      <td>15</td>\n",
       "      <td>0.67</td>\n",
       "      <td>0</td>\n",
       "      <td>1</td>\n",
       "    </tr>\n",
       "    <tr>\n",
       "      <th>3</th>\n",
       "      <td>cf6ebf0bd83ea0c3d12526cd4952cd778c57abb0923f0b...</td>\n",
       "      <td>MSY</td>\n",
       "      <td>68</td>\n",
       "      <td>14</td>\n",
       "      <td>0.83</td>\n",
       "      <td>0</td>\n",
       "      <td>0</td>\n",
       "    </tr>\n",
       "    <tr>\n",
       "      <th>4</th>\n",
       "      <td>62d891d1d4a359eeee374346a57f943e8554193870a2c1...</td>\n",
       "      <td>SAN</td>\n",
       "      <td>17</td>\n",
       "      <td>2</td>\n",
       "      <td>0.33</td>\n",
       "      <td>0</td>\n",
       "      <td>1</td>\n",
       "    </tr>\n",
       "  </tbody>\n",
       "</table>\n",
       "</div>"
      ],
      "text/plain": [
       "                                             user_id city  tenure  channel  \\\n",
       "0  31c0fadd6066ab12e90fa931abbb649f7f591cd7927b9b...  STL      35       14   \n",
       "1  458c88e94be0dba675b65ea063233ea55806bf75c920a7...  EDM       4       15   \n",
       "2  62a556505ca62b9d00ea39e01885649c84ee8167c08bc4...  CAL      25       15   \n",
       "3  cf6ebf0bd83ea0c3d12526cd4952cd778c57abb0923f0b...  MSY      68       14   \n",
       "4  62d891d1d4a359eeee374346a57f943e8554193870a2c1...  SAN      17        2   \n",
       "\n",
       "   opu_6_week  click  experiment  \n",
       "0        0.50      0           0  \n",
       "1        0.50      0           1  \n",
       "2        0.67      0           1  \n",
       "3        0.83      0           0  \n",
       "4        0.33      0           1  "
      ]
     },
     "execution_count": 2,
     "metadata": {},
     "output_type": "execute_result"
    }
   ],
   "source": [
    "# read in data frame \n",
    "\n",
    "df = pd.read_csv(\"~/Desktop/weclouddata/data/experimental_data.csv\")\n",
    "df.head()"
   ]
  },
  {
   "cell_type": "markdown",
   "metadata": {},
   "source": [
    "## Notes\n",
    "\n",
    "There are several ways of sampling. I used the simplest one here, fully randomization.\n",
    "\n",
    "Question: \n",
    "\n",
    "a. What are the potential drawbacks of this approach?             \n",
    "b. How to improve?"
   ]
  },
  {
   "cell_type": "code",
   "execution_count": 3,
   "metadata": {},
   "outputs": [],
   "source": [
    "# fully randomized experiment\n",
    "\n",
    "randomized_exp = df.sample(frac = 0.1, replace=True, random_state=82)"
   ]
  },
  {
   "cell_type": "markdown",
   "metadata": {},
   "source": [
    "# t-test\n",
    "\n",
    "To test potentially normally distributed variables' mean difference, we may appply t-test. So, please run some EDA and check if the variable follow normal distribution. "
   ]
  },
  {
   "cell_type": "code",
   "execution_count": 4,
   "metadata": {},
   "outputs": [],
   "source": [
    "experimental_group = df.loc[df['experiment'] == 1]\n",
    "experimental_group_opu = np.array(experimental_group[\"opu_6_week\"])\n",
    "\n",
    "control_group = df.loc[df['experiment'] == 0]\n",
    "control_group_opu = np.array(control_group[\"opu_6_week\"])"
   ]
  },
  {
   "cell_type": "code",
   "execution_count": 6,
   "metadata": {},
   "outputs": [
    {
     "data": {
      "text/plain": [
       "Ttest_indResult(statistic=-0.3242607123161102, pvalue=0.7457469910445229)"
      ]
     },
     "execution_count": 6,
     "metadata": {},
     "output_type": "execute_result"
    }
   ],
   "source": [
    "stats.ttest_ind(experimental_group_opu, control_group_opu, equal_var = False)"
   ]
  },
  {
   "cell_type": "markdown",
   "metadata": {},
   "source": [
    "# Logistic Regression\n",
    "\n",
    "In order to test binomial distribution variables, we cannot use t-test again. And to illustrate my idea more, I used logistic regression here. "
   ]
  },
  {
   "cell_type": "code",
   "execution_count": 7,
   "metadata": {},
   "outputs": [],
   "source": [
    "# the column click is the target variable\n",
    "from sklearn.linear_model import LogisticRegression\n",
    "from sklearn import metrics\n",
    "from sklearn.metrics import classification_report\n",
    "\n",
    "from sklearn.model_selection import train_test_split"
   ]
  },
  {
   "cell_type": "code",
   "execution_count": 8,
   "metadata": {},
   "outputs": [],
   "source": [
    "X = pd.get_dummies(df.loc[:, [\"city\", \"tenure\",\"channel\", \"experiment\"]])\n",
    "y = pd.get_dummies(df.loc[:, \"click\"], drop_first=True)"
   ]
  },
  {
   "cell_type": "code",
   "execution_count": 9,
   "metadata": {},
   "outputs": [],
   "source": [
    "X_train, X_test, y_train, y_test = train_test_split(X, y, test_size=0.25)"
   ]
  },
  {
   "cell_type": "code",
   "execution_count": 10,
   "metadata": {},
   "outputs": [
    {
     "name": "stderr",
     "output_type": "stream",
     "text": [
      "/anaconda3/lib/python3.7/site-packages/sklearn/utils/validation.py:761: DataConversionWarning: A column-vector y was passed when a 1d array was expected. Please change the shape of y to (n_samples, ), for example using ravel().\n",
      "  y = column_or_1d(y, warn=True)\n",
      "/anaconda3/lib/python3.7/site-packages/sklearn/linear_model/logistic.py:758: ConvergenceWarning: lbfgs failed to converge. Increase the number of iterations.\n",
      "  \"of iterations.\", ConvergenceWarning)\n"
     ]
    }
   ],
   "source": [
    "clf = LogisticRegression(random_state=0, solver='lbfgs',\n",
    "                          multi_class='multinomial').fit(X_train, y_train)\n",
    "#clf.predict(X[:2, :])"
   ]
  },
  {
   "cell_type": "code",
   "execution_count": 11,
   "metadata": {
    "scrolled": true
   },
   "outputs": [
    {
     "data": {
      "text/plain": [
       "LogisticRegression(C=1.0, class_weight=None, dual=False, fit_intercept=True,\n",
       "          intercept_scaling=1, max_iter=100, multi_class='multinomial',\n",
       "          n_jobs=None, penalty='l2', random_state=0, solver='lbfgs',\n",
       "          tol=0.0001, verbose=0, warm_start=False)"
      ]
     },
     "execution_count": 11,
     "metadata": {},
     "output_type": "execute_result"
    }
   ],
   "source": [
    "clf"
   ]
  },
  {
   "cell_type": "code",
   "execution_count": 12,
   "metadata": {},
   "outputs": [],
   "source": [
    "y_pred = clf.predict(X_test)"
   ]
  },
  {
   "cell_type": "code",
   "execution_count": 13,
   "metadata": {},
   "outputs": [
    {
     "name": "stdout",
     "output_type": "stream",
     "text": [
      "              precision    recall  f1-score   support\n",
      "\n",
      "           0       0.97      1.00      0.99      3894\n",
      "           1       0.00      0.00      0.00       106\n",
      "\n",
      "   micro avg       0.97      0.97      0.97      4000\n",
      "   macro avg       0.49      0.50      0.49      4000\n",
      "weighted avg       0.95      0.97      0.96      4000\n",
      "\n"
     ]
    },
    {
     "name": "stderr",
     "output_type": "stream",
     "text": [
      "/anaconda3/lib/python3.7/site-packages/sklearn/metrics/classification.py:1143: UndefinedMetricWarning: Precision and F-score are ill-defined and being set to 0.0 in labels with no predicted samples.\n",
      "  'precision', 'predicted', average, warn_for)\n"
     ]
    }
   ],
   "source": [
    "print(classification_report(y_test, y_pred))"
   ]
  },
  {
   "cell_type": "code",
   "execution_count": 14,
   "metadata": {},
   "outputs": [
    {
     "name": "stdout",
     "output_type": "stream",
     "text": [
      "intercept: [-1.68258737]\n",
      "coefficient: [-2.35228880e-04  1.76894952e-03  1.10775502e-02  8.87954621e-02\n",
      " -1.55259188e-01  2.05023987e-02 -5.86758888e-02  3.18844384e-03\n",
      " -1.79213273e-02 -1.98717910e-01  1.09393524e-01 -1.68414639e-01\n",
      "  8.57295569e-02  1.19569818e-01 -9.29369641e-02  1.26739116e-01\n",
      " -2.96836005e-02  6.82361859e-02 -1.92344559e-01 -4.07996066e-01\n",
      " -5.02032071e-02 -2.55015750e-01 -1.53729309e-01 -4.67042596e-02\n",
      " -3.03488092e-01 -1.29912258e-01  2.25112103e-01 -5.89109973e-03\n",
      " -1.63060588e-01  1.36109019e-01  2.11711641e-02  1.50990353e-02\n",
      " -6.35861020e-02]\n"
     ]
    }
   ],
   "source": [
    "print('intercept:', clf.intercept_)\n",
    "print('coefficient:', clf.coef_[0])"
   ]
  },
  {
   "cell_type": "code",
   "execution_count": null,
   "metadata": {},
   "outputs": [],
   "source": []
  }
 ],
 "metadata": {
  "kernelspec": {
   "display_name": "Python 3",
   "language": "python",
   "name": "python3"
  },
  "language_info": {
   "codemirror_mode": {
    "name": "ipython",
    "version": 3
   },
   "file_extension": ".py",
   "mimetype": "text/x-python",
   "name": "python",
   "nbconvert_exporter": "python",
   "pygments_lexer": "ipython3",
   "version": "3.7.3"
  }
 },
 "nbformat": 4,
 "nbformat_minor": 2
}
